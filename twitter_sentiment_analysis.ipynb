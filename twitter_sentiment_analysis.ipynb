{
 "cells": [
  {
   "cell_type": "markdown",
   "id": "d945f656",
   "metadata": {},
   "source": [
    "### Project Description:\n",
    "For this project I have downloaded a sample dataset of tweets determined to be made by Russian troll accounts. The data was published by FiveThirtyEight and can be found here [3 million Russian troll tweets](https://github.com/fivethirtyeight/russian-troll-tweets)\n",
    "\n",
    "In order to create a sentiment analysis of the tweets present in the csv, we must first import them and get rid of any non-english content."
   ]
  },
  {
   "cell_type": "code",
   "execution_count": 66,
   "metadata": {},
   "outputs": [
    {
     "name": "stdout",
     "output_type": "stream",
     "text": [
      "                                             content\n",
      "0  \"We have a sitting Democrat US Senator on tria...\n",
      "1  Marshawn Lynch arrives to game in anti-Trump s...\n",
      "2  Daughter of fallen Navy Sailor delivers powerf...\n",
      "3  JUST IN: President Trump dedicates Presidents ...\n",
      "4  19,000 RESPECTING our National Anthem! #StandF...\n"
     ]
    }
   ],
   "source": [
    "import pandas as pd\n",
    "from textblob import TextBlob\n",
    "import re\n",
    "\n",
    "# Read the content of the tweets from the csv\n",
    "df = pd.read_csv('IRAhandle_tweets_1.csv',usecols=['content','language'])\n",
    "\n",
    "# Remove non-english content from the dataframe\n",
    "df.drop(df.index[df['language']!='English'],inplace=True)\n",
    "df.drop(columns=['language'],inplace=True)\n",
    "\n",
    "\n",
    "print(df.head(5))"
   ]
  },
  {
   "cell_type": "markdown",
   "id": "699a4b0b",
   "metadata": {},
   "source": [
    "We will then attempt to read the data and generate a sentiment analysis."
   ]
  },
  {
   "cell_type": "code",
   "execution_count": 67,
   "id": "7f5a66cd",
   "metadata": {},
   "outputs": [
    {
     "name": "stdout",
     "output_type": "stream",
     "text": [
      "Of 190252 tweets:\n",
      "Positive tweets: 55450 - 29.15%\n",
      "Neutral tweets: 95711 - 50.31%\n",
      "Negative tweets: 39091 - 20.55%\n"
     ]
    }
   ],
   "source": [
    "amount = len(df['content'])\n",
    "positive = 0\n",
    "neutral = 0\n",
    "negative = 0\n",
    "sentences = []\n",
    "for content in df['content']:\n",
    "    # Clean the tweets by removing tags and links\n",
    "    sentence = re.sub(r'@\\w+','',content)\n",
    "    sentence = re.sub(r'https?://.+','',sentence)\n",
    "    sentence = re.sub(r'# ?\\w+','',sentence)\n",
    "    sentences.append(sentence)\n",
    "    tweet = TextBlob(sentence)\n",
    "    polarity = tweet.polarity\n",
    "    \n",
    "    if polarity>0:\n",
    "        positive+=1\n",
    "    elif polarity==0:\n",
    "        neutral+=1\n",
    "    elif polarity<0:\n",
    "        negative+=1\n",
    "\n",
    "print(f'Of {amount} tweets:')\n",
    "print('Positive tweets: {} - {:.2f}%'.format(positive,(positive/amount)*100))\n",
    "print('Neutral tweets: {} - {:.2f}%'.format(neutral,(neutral/amount)*100))\n",
    "print('Negative tweets: {} - {:.2f}%'.format(negative,(negative/amount)*100))"
   ]
  },
  {
   "cell_type": "markdown",
   "id": "821d0532",
   "metadata": {},
   "source": [
    "Now we can calculate popular keywords in the dataset using spacy. Only the first 1000 tweets will be used to conserve memory."
   ]
  },
  {
   "cell_type": "code",
   "execution_count": 78,
   "id": "d4d6149b",
   "metadata": {},
   "outputs": [
    {
     "name": "stdout",
     "output_type": "stream",
     "text": [
      "Top keywords:  (Democrat, US, Lynch, Daughter of fallen, Navy, NFL, Trump, Florida, Texas, Puerto Rico)\n"
     ]
    }
   ],
   "source": [
    "import spacy\n",
    "nlp = spacy.load(\"en_core_web_sm\")\n",
    "keywords = nlp(' '.join(sentences[:1000]))\n",
    "print('Top keywords: ',keywords.ents[:10])"
   ]
  },
  {
   "cell_type": "markdown",
   "id": "3917f969",
   "metadata": {},
   "source": [
    "Visualizing our data outputs with matplotlib:"
   ]
  },
  {
   "cell_type": "code",
   "execution_count": 106,
   "id": "328e5106",
   "metadata": {},
   "outputs": [
    {
     "data": {
      "image/png": "[encoded data removed]",
      "text/plain": [
       "<Figure size 144x144 with 1 Axes>"
      ]
     },
     "metadata": {},
     "output_type": "display_data"
    }
   ],
   "source": [
    "import pandas as pd\n",
    "import matplotlib.pyplot as plt\n",
    "labels = 'positive','neutral','negative'\n",
    "fig,ax = plt.subplots()\n",
    "ax.pie([positive,neutral,negative], labels=labels, autopct='%1.2f%%')\n",
    "plt.show()"
   ]
  },
  {
   "cell_type": "code",
   "execution_count": 107,
   "id": "353a3b49",
   "metadata": {},
   "outputs": [
    {
     "data": {
      "image/png": "[encoded data removed]",
      "text/plain": [
       "<Figure size 720x360 with 1 Axes>"
      ]
     },
     "metadata": {
      "needs_background": "light"
     },
     "output_type": "display_data"
    }
   ],
   "source": [
    "plt.figure(figsize=(10,5))\n",
    "plt.title('Top 10 Most Used Words')\n",
    "\n",
    "df = pd.DataFrame([x for x in map(str,keywords.ents)],columns=['keywords'])\n",
    "df['keywords'].value_counts()[:10].plot(kind='bar',xlabel='keywords',ylabel='frequency')\n",
    "\n",
    "\n",
    "plt.show()\n"
   ]
  }
 ],
 "metadata": {
  "kernelspec": {
   "display_name": "Python 3.9.6 64-bit",
   "language": "python",
   "name": "python3"
  },
  "language_info": {
   "codemirror_mode": {
    "name": "ipython",
    "version": 3
   },
   "file_extension": ".py",
   "mimetype": "text/x-python",
   "name": "python",
   "nbconvert_exporter": "python",
   "pygments_lexer": "ipython3",
   "version": "3.9.6"
  },
  "vscode": {
   "interpreter": {
    "hash": "bf55b9dc13acfcbacbb477694459a9d5e8d73a549c21d7d0f3557ad4815a72f8"
   }
  }
 },
 "nbformat": 4,
 "nbformat_minor": 5
}
